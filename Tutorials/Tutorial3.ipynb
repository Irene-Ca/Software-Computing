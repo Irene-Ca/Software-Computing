{
 "cells": [
  {
   "cell_type": "markdown",
   "metadata": {},
   "source": [
    "# Tutorial 3"
   ]
  },
  {
   "cell_type": "markdown",
   "metadata": {},
   "source": [
    "This tutorial is an example of a possible BDT built with XGBoost library. [XGBoost Documentation](https://xgboost.readthedocs.io/en/latest/)"
   ]
  },
  {
   "cell_type": "markdown",
   "metadata": {},
   "source": [
    "## Table of contents\n",
    "- Data loading and reading\n",
    "- Data preparation\n",
    "- Cross Validation\n",
    "- Training\n",
    "- Predictions and plotting"
   ]
  },
  {
   "cell_type": "markdown",
   "metadata": {},
   "source": [
    "## Data loading and reading"
   ]
  },
  {
   "cell_type": "markdown",
   "metadata": {},
   "source": [
    "We will use the dataset provided for the Kaggle Higgs challenge. The dataset can be easily downloaded by using the function get_data that saves a copy ('data.csv') in the current repository."
   ]
  },
  {
   "cell_type": "code",
   "execution_count": 1,
   "metadata": {},
   "outputs": [
    {
     "name": "stderr",
     "output_type": "stream",
     "text": [
      "Using TensorFlow backend.\n"
     ]
    },
    {
     "name": "stdout",
     "output_type": "stream",
     "text": [
      "Downloading Dataset\n",
      "Writing dataset on disk\n"
     ]
    }
   ],
   "source": [
    "import requests\n",
    "from program import get_data\n",
    "data_file = get_data(\"https://www.dropbox.com/s/dr64r7hb0fmy76p/atlas-higgs-challenge-2014-v2.csv?dl=1\")"
   ]
  },
  {
   "cell_type": "code",
   "execution_count": 2,
   "metadata": {},
   "outputs": [],
   "source": [
    "import pandas as pd\n",
    "df = pd.read_csv('data.csv')"
   ]
  },
  {
   "cell_type": "markdown",
   "metadata": {},
   "source": [
    "# Data preparation"
   ]
  },
  {
   "cell_type": "markdown",
   "metadata": {},
   "source": [
    "EventId column is useless because pandas.dataframe has a default index:"
   ]
  },
  {
   "cell_type": "code",
   "execution_count": 3,
   "metadata": {},
   "outputs": [],
   "source": [
    "df.drop('EventId', axis=1, inplace=True)"
   ]
  },
  {
   "cell_type": "markdown",
   "metadata": {},
   "source": [
    "Label encoding:"
   ]
  },
  {
   "cell_type": "code",
   "execution_count": 4,
   "metadata": {},
   "outputs": [],
   "source": [
    "from program import Label_to_Binary\n",
    "df['Label'] = Label_to_Binary(df['Label'])"
   ]
  },
  {
   "cell_type": "markdown",
   "metadata": {},
   "source": [
    "Test/train splits:"
   ]
  },
  {
   "cell_type": "code",
   "execution_count": 5,
   "metadata": {},
   "outputs": [],
   "source": [
    "y = df['Label']\n",
    "df.drop('Weight', axis=1 ,inplace=True)\n",
    "df.drop('Label', axis=1 ,inplace=True)\n",
    "df.drop('KaggleSet', axis=1 ,inplace=True)\n",
    "df.drop('KaggleWeight', axis=1 ,inplace=True)\n",
    "X = df"
   ]
  },
  {
   "cell_type": "code",
   "execution_count": 6,
   "metadata": {},
   "outputs": [
    {
     "name": "stdout",
     "output_type": "stream",
     "text": [
      "Class proportions: [377074 195692]\n"
     ]
    }
   ],
   "source": [
    "from sklearn.model_selection import train_test_split\n",
    "import numpy as np\n",
    "X_train, X_test, y_train, y_test = train_test_split(X, y, test_size=0.3, random_state=42, stratify=y)\n",
    "\n",
    "print('Class proportions:', np.bincount(y_train))"
   ]
  },
  {
   "cell_type": "markdown",
   "metadata": {},
   "source": [
    "Loading the Pandas data frame into DMatrix. Note that missing values can be replaced by a default value in the DMatrix constructor."
   ]
  },
  {
   "cell_type": "code",
   "execution_count": 7,
   "metadata": {},
   "outputs": [],
   "source": [
    "import xgboost as xgb\n",
    "dtrain = xgb.DMatrix(data = X_train, label = y_train, missing = -999.0)\n",
    "dtest = xgb.DMatrix(data = X_test, label = y_test, missing = -999.0)"
   ]
  },
  {
   "cell_type": "markdown",
   "metadata": {},
   "source": [
    "# Cross Validation"
   ]
  },
  {
   "cell_type": "markdown",
   "metadata": {},
   "source": [
    "It's important to measure the model's predictive power and the overfitting degree before training. So changing the values in CVparams the hyperparameters can be tuned using cross validation and the best values can be founded. Here are reported two different examples of cross validation parameters."
   ]
  },
  {
   "cell_type": "code",
   "execution_count": 8,
   "metadata": {},
   "outputs": [
    {
     "name": "stdout",
     "output_type": "stream",
     "text": [
      "[0]\ttrain-auc:0.83172+0.00021\ttest-auc:0.82573+0.00122\n",
      "[1]\ttrain-auc:0.86243+0.02292\ttest-auc:0.85621+0.02329\n",
      "[2]\ttrain-auc:0.88570+0.01084\ttest-auc:0.87959+0.01074\n",
      "[3]\ttrain-auc:0.89107+0.00876\ttest-auc:0.88499+0.00866\n",
      "[4]\ttrain-auc:0.89643+0.00460\ttest-auc:0.89042+0.00451\n",
      "[5]\ttrain-auc:0.89792+0.00429\ttest-auc:0.89165+0.00419\n",
      "[6]\ttrain-auc:0.90164+0.00244\ttest-auc:0.89547+0.00235\n",
      "[7]\ttrain-auc:0.90253+0.00314\ttest-auc:0.89626+0.00326\n",
      "[8]\ttrain-auc:0.90435+0.00223\ttest-auc:0.89796+0.00210\n",
      "[9]\ttrain-auc:0.90556+0.00144\ttest-auc:0.89907+0.00119\n",
      "[10]\ttrain-auc:0.90644+0.00125\ttest-auc:0.89980+0.00122\n",
      "[11]\ttrain-auc:0.90695+0.00122\ttest-auc:0.90014+0.00148\n",
      "[12]\ttrain-auc:0.90790+0.00078\ttest-auc:0.90095+0.00098\n",
      "[13]\ttrain-auc:0.90869+0.00071\ttest-auc:0.90168+0.00080\n",
      "[14]\ttrain-auc:0.90918+0.00068\ttest-auc:0.90202+0.00100\n",
      "[15]\ttrain-auc:0.90990+0.00059\ttest-auc:0.90263+0.00090\n",
      "[16]\ttrain-auc:0.91054+0.00048\ttest-auc:0.90314+0.00092\n",
      "[17]\ttrain-auc:0.91114+0.00045\ttest-auc:0.90363+0.00079\n",
      "[18]\ttrain-auc:0.91158+0.00044\ttest-auc:0.90393+0.00088\n",
      "[19]\ttrain-auc:0.91207+0.00033\ttest-auc:0.90428+0.00081\n",
      "[20]\ttrain-auc:0.91259+0.00049\ttest-auc:0.90470+0.00080\n",
      "[21]\ttrain-auc:0.91314+0.00046\ttest-auc:0.90512+0.00074\n",
      "[22]\ttrain-auc:0.91365+0.00053\ttest-auc:0.90546+0.00092\n",
      "[23]\ttrain-auc:0.91409+0.00053\ttest-auc:0.90575+0.00083\n",
      "[24]\ttrain-auc:0.91452+0.00052\ttest-auc:0.90605+0.00074\n",
      "[25]\ttrain-auc:0.91501+0.00039\ttest-auc:0.90641+0.00077\n",
      "[26]\ttrain-auc:0.91547+0.00039\ttest-auc:0.90674+0.00077\n",
      "[27]\ttrain-auc:0.91590+0.00037\ttest-auc:0.90703+0.00081\n",
      "[28]\ttrain-auc:0.91626+0.00034\ttest-auc:0.90725+0.00080\n",
      "[29]\ttrain-auc:0.91663+0.00037\ttest-auc:0.90750+0.00081\n",
      "[30]\ttrain-auc:0.91698+0.00034\ttest-auc:0.90770+0.00082\n",
      "[31]\ttrain-auc:0.91729+0.00035\ttest-auc:0.90787+0.00080\n",
      "[32]\ttrain-auc:0.91762+0.00031\ttest-auc:0.90809+0.00082\n",
      "[33]\ttrain-auc:0.91791+0.00029\ttest-auc:0.90826+0.00082\n",
      "[34]\ttrain-auc:0.91826+0.00025\ttest-auc:0.90847+0.00079\n",
      "[35]\ttrain-auc:0.91854+0.00025\ttest-auc:0.90862+0.00079\n",
      "[36]\ttrain-auc:0.91884+0.00021\ttest-auc:0.90879+0.00083\n",
      "[37]\ttrain-auc:0.91915+0.00021\ttest-auc:0.90898+0.00082\n",
      "[38]\ttrain-auc:0.91944+0.00018\ttest-auc:0.90914+0.00083\n",
      "[39]\ttrain-auc:0.91971+0.00015\ttest-auc:0.90928+0.00080\n",
      "[40]\ttrain-auc:0.92004+0.00013\ttest-auc:0.90947+0.00082\n",
      "[41]\ttrain-auc:0.92035+0.00011\ttest-auc:0.90963+0.00083\n",
      "[42]\ttrain-auc:0.92064+0.00009\ttest-auc:0.90978+0.00083\n",
      "[43]\ttrain-auc:0.92096+0.00006\ttest-auc:0.90995+0.00081\n",
      "[44]\ttrain-auc:0.92125+0.00007\ttest-auc:0.91009+0.00081\n",
      "[45]\ttrain-auc:0.92153+0.00009\ttest-auc:0.91020+0.00080\n",
      "[46]\ttrain-auc:0.92178+0.00010\ttest-auc:0.91031+0.00083\n",
      "[47]\ttrain-auc:0.92204+0.00012\ttest-auc:0.91043+0.00082\n",
      "[48]\ttrain-auc:0.92232+0.00012\ttest-auc:0.91055+0.00081\n",
      "[49]\ttrain-auc:0.92256+0.00012\ttest-auc:0.91063+0.00081\n",
      "[50]\ttrain-auc:0.92280+0.00013\ttest-auc:0.91073+0.00080\n",
      "[51]\ttrain-auc:0.92303+0.00014\ttest-auc:0.91080+0.00078\n",
      "[52]\ttrain-auc:0.92325+0.00016\ttest-auc:0.91089+0.00078\n",
      "[53]\ttrain-auc:0.92352+0.00013\ttest-auc:0.91100+0.00077\n",
      "[54]\ttrain-auc:0.92379+0.00015\ttest-auc:0.91110+0.00076\n",
      "[55]\ttrain-auc:0.92406+0.00015\ttest-auc:0.91120+0.00076\n",
      "[56]\ttrain-auc:0.92425+0.00013\ttest-auc:0.91126+0.00079\n",
      "[57]\ttrain-auc:0.92444+0.00012\ttest-auc:0.91132+0.00080\n",
      "[58]\ttrain-auc:0.92468+0.00010\ttest-auc:0.91141+0.00077\n",
      "[59]\ttrain-auc:0.92489+0.00011\ttest-auc:0.91148+0.00075\n",
      "[60]\ttrain-auc:0.92513+0.00016\ttest-auc:0.91155+0.00074\n",
      "[61]\ttrain-auc:0.92534+0.00016\ttest-auc:0.91160+0.00076\n",
      "[62]\ttrain-auc:0.92552+0.00016\ttest-auc:0.91165+0.00074\n",
      "[63]\ttrain-auc:0.92573+0.00017\ttest-auc:0.91171+0.00073\n",
      "[64]\ttrain-auc:0.92592+0.00019\ttest-auc:0.91177+0.00072\n",
      "[65]\ttrain-auc:0.92610+0.00019\ttest-auc:0.91181+0.00072\n",
      "[66]\ttrain-auc:0.92627+0.00022\ttest-auc:0.91186+0.00071\n",
      "[67]\ttrain-auc:0.92648+0.00023\ttest-auc:0.91192+0.00071\n",
      "[68]\ttrain-auc:0.92666+0.00023\ttest-auc:0.91196+0.00070\n",
      "[69]\ttrain-auc:0.92685+0.00021\ttest-auc:0.91200+0.00069\n",
      "[70]\ttrain-auc:0.92702+0.00018\ttest-auc:0.91205+0.00068\n",
      "[71]\ttrain-auc:0.92716+0.00016\ttest-auc:0.91208+0.00068\n",
      "[72]\ttrain-auc:0.92733+0.00015\ttest-auc:0.91213+0.00069\n",
      "[73]\ttrain-auc:0.92745+0.00017\ttest-auc:0.91215+0.00069\n",
      "[74]\ttrain-auc:0.92759+0.00016\ttest-auc:0.91219+0.00070\n",
      "[75]\ttrain-auc:0.92776+0.00016\ttest-auc:0.91222+0.00069\n",
      "[76]\ttrain-auc:0.92796+0.00017\ttest-auc:0.91227+0.00068\n",
      "[77]\ttrain-auc:0.92812+0.00021\ttest-auc:0.91230+0.00067\n",
      "[78]\ttrain-auc:0.92827+0.00023\ttest-auc:0.91233+0.00066\n",
      "[79]\ttrain-auc:0.92838+0.00024\ttest-auc:0.91235+0.00066\n",
      "[80]\ttrain-auc:0.92851+0.00023\ttest-auc:0.91238+0.00066\n",
      "[81]\ttrain-auc:0.92863+0.00021\ttest-auc:0.91239+0.00067\n",
      "[82]\ttrain-auc:0.92875+0.00018\ttest-auc:0.91241+0.00068\n",
      "[83]\ttrain-auc:0.92893+0.00022\ttest-auc:0.91244+0.00068\n",
      "[84]\ttrain-auc:0.92902+0.00021\ttest-auc:0.91246+0.00067\n",
      "[85]\ttrain-auc:0.92916+0.00019\ttest-auc:0.91248+0.00067\n",
      "[86]\ttrain-auc:0.92924+0.00020\ttest-auc:0.91251+0.00068\n",
      "[87]\ttrain-auc:0.92936+0.00020\ttest-auc:0.91254+0.00069\n",
      "[88]\ttrain-auc:0.92945+0.00022\ttest-auc:0.91255+0.00069\n",
      "[89]\ttrain-auc:0.92956+0.00022\ttest-auc:0.91258+0.00069\n",
      "[90]\ttrain-auc:0.92967+0.00019\ttest-auc:0.91259+0.00069\n",
      "[91]\ttrain-auc:0.92980+0.00021\ttest-auc:0.91261+0.00067\n",
      "[92]\ttrain-auc:0.92991+0.00021\ttest-auc:0.91264+0.00066\n",
      "[93]\ttrain-auc:0.93002+0.00021\ttest-auc:0.91266+0.00065\n",
      "[94]\ttrain-auc:0.93014+0.00020\ttest-auc:0.91266+0.00067\n",
      "[95]\ttrain-auc:0.93022+0.00018\ttest-auc:0.91267+0.00067\n",
      "[96]\ttrain-auc:0.93032+0.00017\ttest-auc:0.91268+0.00066\n",
      "[97]\ttrain-auc:0.93041+0.00015\ttest-auc:0.91269+0.00066\n",
      "[98]\ttrain-auc:0.93051+0.00016\ttest-auc:0.91270+0.00066\n",
      "[99]\ttrain-auc:0.93062+0.00018\ttest-auc:0.91271+0.00065\n",
      "[100]\ttrain-auc:0.93070+0.00015\ttest-auc:0.91272+0.00065\n",
      "[101]\ttrain-auc:0.93082+0.00019\ttest-auc:0.91274+0.00065\n",
      "[102]\ttrain-auc:0.93088+0.00020\ttest-auc:0.91275+0.00065\n",
      "[103]\ttrain-auc:0.93102+0.00024\ttest-auc:0.91277+0.00064\n",
      "[104]\ttrain-auc:0.93114+0.00022\ttest-auc:0.91279+0.00063\n",
      "[105]\ttrain-auc:0.93122+0.00021\ttest-auc:0.91279+0.00063\n",
      "[106]\ttrain-auc:0.93131+0.00022\ttest-auc:0.91281+0.00063\n",
      "[107]\ttrain-auc:0.93141+0.00022\ttest-auc:0.91282+0.00063\n",
      "[108]\ttrain-auc:0.93149+0.00024\ttest-auc:0.91283+0.00063\n",
      "[109]\ttrain-auc:0.93157+0.00025\ttest-auc:0.91284+0.00062\n",
      "[110]\ttrain-auc:0.93163+0.00026\ttest-auc:0.91285+0.00062\n",
      "[111]\ttrain-auc:0.93171+0.00026\ttest-auc:0.91286+0.00062\n",
      "[112]\ttrain-auc:0.93180+0.00025\ttest-auc:0.91288+0.00062\n",
      "[113]\ttrain-auc:0.93192+0.00029\ttest-auc:0.91289+0.00062\n",
      "[114]\ttrain-auc:0.93200+0.00032\ttest-auc:0.91290+0.00062\n",
      "[115]\ttrain-auc:0.93210+0.00033\ttest-auc:0.91292+0.00062\n",
      "[116]\ttrain-auc:0.93219+0.00033\ttest-auc:0.91293+0.00061\n",
      "[117]\ttrain-auc:0.93227+0.00033\ttest-auc:0.91294+0.00061\n",
      "[118]\ttrain-auc:0.93233+0.00033\ttest-auc:0.91295+0.00060\n",
      "[119]\ttrain-auc:0.93241+0.00032\ttest-auc:0.91296+0.00060\n",
      "[120]\ttrain-auc:0.93250+0.00031\ttest-auc:0.91297+0.00061\n",
      "[121]\ttrain-auc:0.93255+0.00031\ttest-auc:0.91298+0.00061\n",
      "[122]\ttrain-auc:0.93263+0.00032\ttest-auc:0.91299+0.00061\n",
      "[123]\ttrain-auc:0.93270+0.00034\ttest-auc:0.91299+0.00061\n",
      "[124]\ttrain-auc:0.93277+0.00033\ttest-auc:0.91300+0.00061\n",
      "[125]\ttrain-auc:0.93283+0.00034\ttest-auc:0.91300+0.00061\n",
      "[126]\ttrain-auc:0.93289+0.00033\ttest-auc:0.91300+0.00062\n",
      "[127]\ttrain-auc:0.93296+0.00033\ttest-auc:0.91300+0.00062\n",
      "[128]\ttrain-auc:0.93303+0.00033\ttest-auc:0.91301+0.00062\n",
      "[129]\ttrain-auc:0.93313+0.00033\ttest-auc:0.91302+0.00063\n",
      "[130]\ttrain-auc:0.93318+0.00035\ttest-auc:0.91302+0.00063\n",
      "[131]\ttrain-auc:0.93324+0.00034\ttest-auc:0.91302+0.00063\n",
      "[132]\ttrain-auc:0.93330+0.00034\ttest-auc:0.91303+0.00063\n",
      "[133]\ttrain-auc:0.93341+0.00037\ttest-auc:0.91303+0.00063\n",
      "[134]\ttrain-auc:0.93347+0.00038\ttest-auc:0.91304+0.00063\n",
      "[135]\ttrain-auc:0.93353+0.00038\ttest-auc:0.91304+0.00063\n",
      "[136]\ttrain-auc:0.93360+0.00039\ttest-auc:0.91305+0.00063\n",
      "[137]\ttrain-auc:0.93367+0.00039\ttest-auc:0.91305+0.00063\n",
      "[138]\ttrain-auc:0.93379+0.00041\ttest-auc:0.91306+0.00063\n",
      "[139]\ttrain-auc:0.93389+0.00042\ttest-auc:0.91307+0.00063\n",
      "[140]\ttrain-auc:0.93395+0.00043\ttest-auc:0.91307+0.00064\n",
      "[141]\ttrain-auc:0.93402+0.00042\ttest-auc:0.91307+0.00063\n",
      "[142]\ttrain-auc:0.93409+0.00044\ttest-auc:0.91308+0.00063\n",
      "[143]\ttrain-auc:0.93415+0.00042\ttest-auc:0.91308+0.00063\n",
      "[144]\ttrain-auc:0.93425+0.00044\ttest-auc:0.91309+0.00062\n",
      "[145]\ttrain-auc:0.93431+0.00043\ttest-auc:0.91308+0.00062\n",
      "[146]\ttrain-auc:0.93437+0.00043\ttest-auc:0.91309+0.00062\n",
      "[147]\ttrain-auc:0.93446+0.00044\ttest-auc:0.91308+0.00062\n",
      "[148]\ttrain-auc:0.93458+0.00045\ttest-auc:0.91309+0.00062\n",
      "[149]\ttrain-auc:0.93462+0.00045\ttest-auc:0.91310+0.00062\n",
      "[150]\ttrain-auc:0.93471+0.00047\ttest-auc:0.91311+0.00061\n",
      "[151]\ttrain-auc:0.93479+0.00048\ttest-auc:0.91312+0.00060\n",
      "[152]\ttrain-auc:0.93487+0.00047\ttest-auc:0.91313+0.00061\n",
      "[153]\ttrain-auc:0.93494+0.00048\ttest-auc:0.91313+0.00060\n",
      "[154]\ttrain-auc:0.93500+0.00049\ttest-auc:0.91313+0.00060\n",
      "[155]\ttrain-auc:0.93505+0.00049\ttest-auc:0.91313+0.00060\n",
      "[156]\ttrain-auc:0.93514+0.00048\ttest-auc:0.91314+0.00060\n",
      "[157]\ttrain-auc:0.93519+0.00046\ttest-auc:0.91314+0.00060\n",
      "[158]\ttrain-auc:0.93526+0.00050\ttest-auc:0.91314+0.00060\n",
      "[159]\ttrain-auc:0.93532+0.00049\ttest-auc:0.91314+0.00059\n",
      "[160]\ttrain-auc:0.93535+0.00049\ttest-auc:0.91314+0.00059\n",
      "[161]\ttrain-auc:0.93542+0.00048\ttest-auc:0.91315+0.00058\n",
      "[162]\ttrain-auc:0.93549+0.00048\ttest-auc:0.91315+0.00059\n",
      "[163]\ttrain-auc:0.93557+0.00045\ttest-auc:0.91316+0.00059\n",
      "[164]\ttrain-auc:0.93562+0.00047\ttest-auc:0.91316+0.00059\n",
      "[165]\ttrain-auc:0.93569+0.00045\ttest-auc:0.91316+0.00059\n",
      "[166]\ttrain-auc:0.93574+0.00045\ttest-auc:0.91316+0.00059\n",
      "[167]\ttrain-auc:0.93580+0.00047\ttest-auc:0.91317+0.00059\n",
      "[168]\ttrain-auc:0.93585+0.00046\ttest-auc:0.91317+0.00059\n",
      "[169]\ttrain-auc:0.93591+0.00045\ttest-auc:0.91317+0.00059\n",
      "[170]\ttrain-auc:0.93596+0.00046\ttest-auc:0.91317+0.00058\n",
      "[171]\ttrain-auc:0.93610+0.00045\ttest-auc:0.91319+0.00059\n",
      "[172]\ttrain-auc:0.93614+0.00046\ttest-auc:0.91319+0.00059\n",
      "[173]\ttrain-auc:0.93623+0.00043\ttest-auc:0.91320+0.00059\n",
      "[174]\ttrain-auc:0.93629+0.00045\ttest-auc:0.91320+0.00060\n",
      "[175]\ttrain-auc:0.93635+0.00045\ttest-auc:0.91320+0.00060\n",
      "[176]\ttrain-auc:0.93642+0.00045\ttest-auc:0.91320+0.00060\n",
      "[177]\ttrain-auc:0.93646+0.00045\ttest-auc:0.91321+0.00060\n",
      "[178]\ttrain-auc:0.93651+0.00044\ttest-auc:0.91320+0.00060\n",
      "[179]\ttrain-auc:0.93658+0.00045\ttest-auc:0.91320+0.00060\n",
      "[180]\ttrain-auc:0.93662+0.00047\ttest-auc:0.91320+0.00060\n",
      "[181]\ttrain-auc:0.93672+0.00048\ttest-auc:0.91321+0.00059\n",
      "[182]\ttrain-auc:0.93676+0.00050\ttest-auc:0.91322+0.00059\n",
      "[183]\ttrain-auc:0.93684+0.00051\ttest-auc:0.91322+0.00059\n",
      "[184]\ttrain-auc:0.93691+0.00051\ttest-auc:0.91322+0.00060\n",
      "[185]\ttrain-auc:0.93698+0.00052\ttest-auc:0.91322+0.00060\n",
      "[186]\ttrain-auc:0.93702+0.00051\ttest-auc:0.91322+0.00060\n",
      "[187]\ttrain-auc:0.93710+0.00051\ttest-auc:0.91322+0.00061\n",
      "[188]\ttrain-auc:0.93718+0.00050\ttest-auc:0.91323+0.00060\n",
      "[189]\ttrain-auc:0.93725+0.00050\ttest-auc:0.91324+0.00060\n",
      "[190]\ttrain-auc:0.93735+0.00044\ttest-auc:0.91325+0.00059\n",
      "[191]\ttrain-auc:0.93742+0.00045\ttest-auc:0.91325+0.00059\n",
      "[192]\ttrain-auc:0.93747+0.00042\ttest-auc:0.91325+0.00058\n",
      "[193]\ttrain-auc:0.93756+0.00041\ttest-auc:0.91326+0.00058\n",
      "[194]\ttrain-auc:0.93762+0.00043\ttest-auc:0.91326+0.00058\n",
      "[195]\ttrain-auc:0.93768+0.00042\ttest-auc:0.91326+0.00058\n",
      "[196]\ttrain-auc:0.93776+0.00042\ttest-auc:0.91326+0.00058\n",
      "[197]\ttrain-auc:0.93781+0.00043\ttest-auc:0.91326+0.00058\n",
      "[198]\ttrain-auc:0.93784+0.00043\ttest-auc:0.91326+0.00057\n",
      "[199]\ttrain-auc:0.93790+0.00044\ttest-auc:0.91326+0.00057\n",
      "[200]\ttrain-auc:0.93799+0.00048\ttest-auc:0.91326+0.00057\n",
      "[201]\ttrain-auc:0.93806+0.00048\ttest-auc:0.91327+0.00057\n",
      "[202]\ttrain-auc:0.93814+0.00048\ttest-auc:0.91327+0.00057\n",
      "[203]\ttrain-auc:0.93821+0.00051\ttest-auc:0.91328+0.00056\n",
      "[204]\ttrain-auc:0.93826+0.00049\ttest-auc:0.91328+0.00057\n",
      "[205]\ttrain-auc:0.93831+0.00050\ttest-auc:0.91328+0.00057\n",
      "[206]\ttrain-auc:0.93835+0.00051\ttest-auc:0.91328+0.00057\n",
      "[207]\ttrain-auc:0.93841+0.00051\ttest-auc:0.91327+0.00057\n",
      "[208]\ttrain-auc:0.93847+0.00053\ttest-auc:0.91328+0.00057\n",
      "[209]\ttrain-auc:0.93852+0.00054\ttest-auc:0.91328+0.00056\n",
      "[210]\ttrain-auc:0.93857+0.00053\ttest-auc:0.91328+0.00056\n",
      "[211]\ttrain-auc:0.93862+0.00052\ttest-auc:0.91328+0.00055\n",
      "[212]\ttrain-auc:0.93866+0.00052\ttest-auc:0.91328+0.00055\n",
      "[213]\ttrain-auc:0.93874+0.00051\ttest-auc:0.91329+0.00055\n",
      "[214]\ttrain-auc:0.93883+0.00049\ttest-auc:0.91329+0.00056\n",
      "[215]\ttrain-auc:0.93890+0.00051\ttest-auc:0.91329+0.00056\n",
      "[216]\ttrain-auc:0.93896+0.00049\ttest-auc:0.91329+0.00056\n",
      "[217]\ttrain-auc:0.93902+0.00047\ttest-auc:0.91329+0.00057\n",
      "[218]\ttrain-auc:0.93908+0.00048\ttest-auc:0.91329+0.00057\n",
      "[219]\ttrain-auc:0.93912+0.00049\ttest-auc:0.91329+0.00057\n",
      "[220]\ttrain-auc:0.93915+0.00050\ttest-auc:0.91329+0.00057\n",
      "[221]\ttrain-auc:0.93923+0.00049\ttest-auc:0.91330+0.00057\n",
      "[222]\ttrain-auc:0.93931+0.00052\ttest-auc:0.91330+0.00057\n",
      "[223]\ttrain-auc:0.93937+0.00050\ttest-auc:0.91330+0.00057\n",
      "[224]\ttrain-auc:0.93943+0.00048\ttest-auc:0.91331+0.00058\n",
      "[225]\ttrain-auc:0.93950+0.00049\ttest-auc:0.91330+0.00058\n",
      "[226]\ttrain-auc:0.93956+0.00051\ttest-auc:0.91330+0.00058\n",
      "[227]\ttrain-auc:0.93962+0.00051\ttest-auc:0.91330+0.00058\n",
      "[228]\ttrain-auc:0.93968+0.00051\ttest-auc:0.91330+0.00058\n",
      "[229]\ttrain-auc:0.93973+0.00048\ttest-auc:0.91331+0.00059\n",
      "[230]\ttrain-auc:0.93977+0.00047\ttest-auc:0.91331+0.00059\n",
      "[231]\ttrain-auc:0.93985+0.00047\ttest-auc:0.91331+0.00059\n",
      "[232]\ttrain-auc:0.93992+0.00048\ttest-auc:0.91331+0.00059\n",
      "[233]\ttrain-auc:0.93997+0.00049\ttest-auc:0.91332+0.00059\n",
      "[234]\ttrain-auc:0.94003+0.00049\ttest-auc:0.91331+0.00059\n",
      "[235]\ttrain-auc:0.94009+0.00047\ttest-auc:0.91331+0.00059\n",
      "[236]\ttrain-auc:0.94015+0.00048\ttest-auc:0.91331+0.00060\n",
      "[237]\ttrain-auc:0.94022+0.00051\ttest-auc:0.91331+0.00060\n",
      "[238]\ttrain-auc:0.94027+0.00051\ttest-auc:0.91330+0.00060\n",
      "[239]\ttrain-auc:0.94035+0.00049\ttest-auc:0.91331+0.00061\n",
      "[240]\ttrain-auc:0.94044+0.00047\ttest-auc:0.91331+0.00061\n",
      "[241]\ttrain-auc:0.94050+0.00046\ttest-auc:0.91331+0.00061\n",
      "[242]\ttrain-auc:0.94054+0.00046\ttest-auc:0.91331+0.00061\n",
      "[243]\ttrain-auc:0.94059+0.00045\ttest-auc:0.91331+0.00061\n",
      "[244]\ttrain-auc:0.94065+0.00047\ttest-auc:0.91331+0.00060\n",
      "[245]\ttrain-auc:0.94072+0.00049\ttest-auc:0.91331+0.00060\n",
      "[246]\ttrain-auc:0.94077+0.00047\ttest-auc:0.91331+0.00060\n",
      "[247]\ttrain-auc:0.94083+0.00049\ttest-auc:0.91331+0.00060\n",
      "[248]\ttrain-auc:0.94088+0.00049\ttest-auc:0.91331+0.00060\n",
      "[249]\ttrain-auc:0.94093+0.00049\ttest-auc:0.91331+0.00060\n",
      "[250]\ttrain-auc:0.94100+0.00050\ttest-auc:0.91331+0.00060\n",
      "[251]\ttrain-auc:0.94106+0.00049\ttest-auc:0.91331+0.00060\n",
      "[252]\ttrain-auc:0.94113+0.00050\ttest-auc:0.91331+0.00060\n",
      "[253]\ttrain-auc:0.94117+0.00050\ttest-auc:0.91331+0.00059\n",
      "[254]\ttrain-auc:0.94123+0.00049\ttest-auc:0.91331+0.00059\n",
      "[255]\ttrain-auc:0.94127+0.00050\ttest-auc:0.91331+0.00059\n",
      "[256]\ttrain-auc:0.94130+0.00051\ttest-auc:0.91331+0.00059\n",
      "[257]\ttrain-auc:0.94137+0.00049\ttest-auc:0.91331+0.00059\n"
     ]
    }
   ],
   "source": [
    "import numpy as np\n",
    "from program import cross_validation\n",
    "seed = 123\n",
    "np.random.seed(seed)\n",
    "\n",
    "CVparams1 = {'objective' : 'binary:logistic',\n",
    "             'max_depth' : 9,\n",
    "             'min_child_weight' : 7,\n",
    "             'gamma' : 0,\n",
    "             'subsample' : 0.9,\n",
    "             'colsample_bytree' : 0.5,\n",
    "             'eta' : 0.1,\n",
    "             'eval_metric' : 'auc',\n",
    "             'nthread' : 16}\n",
    "res = cross_validation(seed, dtrain, CVparams1)"
   ]
  },
  {
   "cell_type": "code",
   "execution_count": 9,
   "metadata": {},
   "outputs": [
    {
     "name": "stdout",
     "output_type": "stream",
     "text": [
      "CV results\n",
      "      train-auc-mean  train-auc-std  test-auc-mean  test-auc-std\n",
      "0          0.831718       0.000214       0.825730      0.001218\n",
      "1          0.862431       0.022916       0.856209      0.023295\n",
      "2          0.885695       0.010844       0.879589      0.010739\n",
      "3          0.891066       0.008763       0.884992      0.008657\n",
      "4          0.896430       0.004596       0.890415      0.004509\n",
      "..              ...            ...            ...           ...\n",
      "229        0.939732       0.000478       0.913307      0.000590\n",
      "230        0.939774       0.000474       0.913308      0.000587\n",
      "231        0.939846       0.000474       0.913312      0.000593\n",
      "232        0.939922       0.000475       0.913313      0.000591\n",
      "233        0.939966       0.000490       0.913316      0.000590\n",
      "\n",
      "[234 rows x 4 columns]\n"
     ]
    }
   ],
   "source": [
    "print('CV results'\"\\n\", res)"
   ]
  },
  {
   "cell_type": "code",
   "execution_count": 10,
   "metadata": {},
   "outputs": [
    {
     "name": "stdout",
     "output_type": "stream",
     "text": [
      "[0]\ttrain-auc:0.87723+0.00055\ttest-auc:0.87199+0.00089\n",
      "[1]\ttrain-auc:0.89245+0.00491\ttest-auc:0.88732+0.00533\n",
      "[2]\ttrain-auc:0.89802+0.00080\ttest-auc:0.89277+0.00126\n",
      "[3]\ttrain-auc:0.90092+0.00098\ttest-auc:0.89546+0.00068\n",
      "[4]\ttrain-auc:0.90229+0.00105\ttest-auc:0.89672+0.00137\n",
      "[5]\ttrain-auc:0.90400+0.00040\ttest-auc:0.89845+0.00086\n",
      "[6]\ttrain-auc:0.90518+0.00022\ttest-auc:0.89957+0.00076\n",
      "[7]\ttrain-auc:0.90602+0.00044\ttest-auc:0.90035+0.00068\n",
      "[8]\ttrain-auc:0.90695+0.00046\ttest-auc:0.90110+0.00067\n",
      "[9]\ttrain-auc:0.90753+0.00047\ttest-auc:0.90159+0.00073\n",
      "[10]\ttrain-auc:0.90826+0.00038\ttest-auc:0.90215+0.00072\n",
      "[11]\ttrain-auc:0.90884+0.00037\ttest-auc:0.90254+0.00077\n",
      "[12]\ttrain-auc:0.90939+0.00034\ttest-auc:0.90295+0.00071\n",
      "[13]\ttrain-auc:0.90999+0.00028\ttest-auc:0.90339+0.00063\n",
      "[14]\ttrain-auc:0.91047+0.00028\ttest-auc:0.90373+0.00059\n",
      "[15]\ttrain-auc:0.91100+0.00026\ttest-auc:0.90414+0.00061\n",
      "[16]\ttrain-auc:0.91151+0.00020\ttest-auc:0.90452+0.00065\n",
      "[17]\ttrain-auc:0.91200+0.00014\ttest-auc:0.90486+0.00069\n",
      "[18]\ttrain-auc:0.91250+0.00013\ttest-auc:0.90524+0.00067\n",
      "[19]\ttrain-auc:0.91292+0.00013\ttest-auc:0.90553+0.00066\n",
      "[20]\ttrain-auc:0.91332+0.00011\ttest-auc:0.90580+0.00067\n",
      "[21]\ttrain-auc:0.91372+0.00011\ttest-auc:0.90607+0.00066\n",
      "[22]\ttrain-auc:0.91415+0.00008\ttest-auc:0.90636+0.00076\n",
      "[23]\ttrain-auc:0.91457+0.00007\ttest-auc:0.90663+0.00075\n",
      "[24]\ttrain-auc:0.91494+0.00011\ttest-auc:0.90686+0.00077\n",
      "[25]\ttrain-auc:0.91535+0.00017\ttest-auc:0.90713+0.00082\n",
      "[26]\ttrain-auc:0.91576+0.00022\ttest-auc:0.90739+0.00084\n",
      "[27]\ttrain-auc:0.91614+0.00022\ttest-auc:0.90764+0.00084\n",
      "[28]\ttrain-auc:0.91654+0.00020\ttest-auc:0.90789+0.00084\n",
      "[29]\ttrain-auc:0.91690+0.00021\ttest-auc:0.90812+0.00086\n",
      "[30]\ttrain-auc:0.91729+0.00019\ttest-auc:0.90836+0.00084\n",
      "[31]\ttrain-auc:0.91758+0.00020\ttest-auc:0.90854+0.00084\n",
      "[32]\ttrain-auc:0.91794+0.00018\ttest-auc:0.90876+0.00083\n",
      "[33]\ttrain-auc:0.91831+0.00017\ttest-auc:0.90896+0.00082\n",
      "[34]\ttrain-auc:0.91861+0.00014\ttest-auc:0.90912+0.00081\n",
      "[35]\ttrain-auc:0.91894+0.00016\ttest-auc:0.90929+0.00080\n",
      "[36]\ttrain-auc:0.91924+0.00013\ttest-auc:0.90944+0.00079\n",
      "[37]\ttrain-auc:0.91955+0.00012\ttest-auc:0.90961+0.00080\n",
      "[38]\ttrain-auc:0.91980+0.00012\ttest-auc:0.90973+0.00082\n",
      "[39]\ttrain-auc:0.92010+0.00009\ttest-auc:0.90989+0.00079\n",
      "[40]\ttrain-auc:0.92035+0.00008\ttest-auc:0.91001+0.00079\n",
      "[41]\ttrain-auc:0.92065+0.00011\ttest-auc:0.91015+0.00081\n",
      "[42]\ttrain-auc:0.92089+0.00007\ttest-auc:0.91029+0.00080\n",
      "[43]\ttrain-auc:0.92113+0.00008\ttest-auc:0.91040+0.00077\n",
      "[44]\ttrain-auc:0.92140+0.00007\ttest-auc:0.91052+0.00075\n",
      "[45]\ttrain-auc:0.92159+0.00006\ttest-auc:0.91060+0.00073\n",
      "[46]\ttrain-auc:0.92185+0.00006\ttest-auc:0.91072+0.00072\n",
      "[47]\ttrain-auc:0.92211+0.00005\ttest-auc:0.91083+0.00070\n",
      "[48]\ttrain-auc:0.92233+0.00010\ttest-auc:0.91091+0.00070\n",
      "[49]\ttrain-auc:0.92253+0.00010\ttest-auc:0.91100+0.00072\n",
      "[50]\ttrain-auc:0.92274+0.00010\ttest-auc:0.91108+0.00072\n",
      "[51]\ttrain-auc:0.92292+0.00010\ttest-auc:0.91115+0.00071\n",
      "[52]\ttrain-auc:0.92314+0.00013\ttest-auc:0.91122+0.00073\n",
      "[53]\ttrain-auc:0.92335+0.00009\ttest-auc:0.91131+0.00072\n",
      "[54]\ttrain-auc:0.92359+0.00011\ttest-auc:0.91140+0.00071\n",
      "[55]\ttrain-auc:0.92376+0.00010\ttest-auc:0.91145+0.00070\n",
      "[56]\ttrain-auc:0.92394+0.00011\ttest-auc:0.91150+0.00070\n",
      "[57]\ttrain-auc:0.92413+0.00009\ttest-auc:0.91157+0.00070\n",
      "[58]\ttrain-auc:0.92432+0.00012\ttest-auc:0.91162+0.00069\n",
      "[59]\ttrain-auc:0.92445+0.00011\ttest-auc:0.91167+0.00067\n",
      "[60]\ttrain-auc:0.92461+0.00008\ttest-auc:0.91172+0.00065\n",
      "[61]\ttrain-auc:0.92476+0.00008\ttest-auc:0.91175+0.00066\n",
      "[62]\ttrain-auc:0.92493+0.00004\ttest-auc:0.91180+0.00065\n",
      "[63]\ttrain-auc:0.92510+0.00002\ttest-auc:0.91185+0.00065\n",
      "[64]\ttrain-auc:0.92527+0.00004\ttest-auc:0.91188+0.00065\n",
      "[65]\ttrain-auc:0.92542+0.00003\ttest-auc:0.91191+0.00066\n",
      "[66]\ttrain-auc:0.92556+0.00007\ttest-auc:0.91194+0.00066\n",
      "[67]\ttrain-auc:0.92569+0.00005\ttest-auc:0.91198+0.00065\n",
      "[68]\ttrain-auc:0.92584+0.00008\ttest-auc:0.91202+0.00065\n",
      "[69]\ttrain-auc:0.92600+0.00011\ttest-auc:0.91206+0.00065\n",
      "[70]\ttrain-auc:0.92616+0.00012\ttest-auc:0.91211+0.00065\n",
      "[71]\ttrain-auc:0.92633+0.00015\ttest-auc:0.91214+0.00065\n",
      "[72]\ttrain-auc:0.92645+0.00012\ttest-auc:0.91217+0.00065\n",
      "[73]\ttrain-auc:0.92658+0.00013\ttest-auc:0.91220+0.00065\n",
      "[74]\ttrain-auc:0.92672+0.00014\ttest-auc:0.91225+0.00064\n",
      "[75]\ttrain-auc:0.92687+0.00013\ttest-auc:0.91228+0.00064\n",
      "[76]\ttrain-auc:0.92699+0.00012\ttest-auc:0.91229+0.00062\n",
      "[77]\ttrain-auc:0.92716+0.00017\ttest-auc:0.91232+0.00063\n",
      "[78]\ttrain-auc:0.92730+0.00015\ttest-auc:0.91235+0.00063\n",
      "[79]\ttrain-auc:0.92744+0.00013\ttest-auc:0.91237+0.00063\n",
      "[80]\ttrain-auc:0.92758+0.00014\ttest-auc:0.91239+0.00063\n",
      "[81]\ttrain-auc:0.92773+0.00017\ttest-auc:0.91241+0.00064\n",
      "[82]\ttrain-auc:0.92783+0.00017\ttest-auc:0.91243+0.00065\n",
      "[83]\ttrain-auc:0.92795+0.00021\ttest-auc:0.91244+0.00065\n",
      "[84]\ttrain-auc:0.92807+0.00018\ttest-auc:0.91245+0.00064\n",
      "[85]\ttrain-auc:0.92818+0.00018\ttest-auc:0.91246+0.00064\n",
      "[86]\ttrain-auc:0.92832+0.00016\ttest-auc:0.91248+0.00063\n",
      "[87]\ttrain-auc:0.92848+0.00016\ttest-auc:0.91251+0.00065\n",
      "[88]\ttrain-auc:0.92856+0.00015\ttest-auc:0.91251+0.00065\n",
      "[89]\ttrain-auc:0.92866+0.00018\ttest-auc:0.91253+0.00067\n",
      "[90]\ttrain-auc:0.92874+0.00018\ttest-auc:0.91253+0.00067\n",
      "[91]\ttrain-auc:0.92885+0.00016\ttest-auc:0.91255+0.00067\n",
      "[92]\ttrain-auc:0.92899+0.00017\ttest-auc:0.91258+0.00068\n",
      "[93]\ttrain-auc:0.92915+0.00015\ttest-auc:0.91260+0.00067\n",
      "[94]\ttrain-auc:0.92925+0.00014\ttest-auc:0.91261+0.00067\n",
      "[95]\ttrain-auc:0.92937+0.00017\ttest-auc:0.91262+0.00068\n",
      "[96]\ttrain-auc:0.92946+0.00014\ttest-auc:0.91263+0.00067\n",
      "[97]\ttrain-auc:0.92957+0.00017\ttest-auc:0.91265+0.00068\n",
      "[98]\ttrain-auc:0.92967+0.00016\ttest-auc:0.91266+0.00067\n",
      "[99]\ttrain-auc:0.92978+0.00020\ttest-auc:0.91267+0.00066\n",
      "[100]\ttrain-auc:0.92988+0.00023\ttest-auc:0.91267+0.00066\n",
      "[101]\ttrain-auc:0.92997+0.00024\ttest-auc:0.91268+0.00066\n",
      "[102]\ttrain-auc:0.93005+0.00023\ttest-auc:0.91269+0.00066\n",
      "[103]\ttrain-auc:0.93013+0.00021\ttest-auc:0.91269+0.00066\n",
      "[104]\ttrain-auc:0.93023+0.00022\ttest-auc:0.91269+0.00066\n",
      "[105]\ttrain-auc:0.93031+0.00023\ttest-auc:0.91269+0.00066\n",
      "[106]\ttrain-auc:0.93039+0.00022\ttest-auc:0.91270+0.00065\n",
      "[107]\ttrain-auc:0.93050+0.00019\ttest-auc:0.91271+0.00065\n",
      "[108]\ttrain-auc:0.93059+0.00018\ttest-auc:0.91272+0.00064\n",
      "[109]\ttrain-auc:0.93068+0.00020\ttest-auc:0.91273+0.00064\n",
      "[110]\ttrain-auc:0.93077+0.00020\ttest-auc:0.91274+0.00065\n",
      "[111]\ttrain-auc:0.93087+0.00024\ttest-auc:0.91274+0.00065\n",
      "[112]\ttrain-auc:0.93095+0.00025\ttest-auc:0.91275+0.00066\n",
      "[113]\ttrain-auc:0.93102+0.00029\ttest-auc:0.91276+0.00066\n",
      "[114]\ttrain-auc:0.93110+0.00026\ttest-auc:0.91276+0.00065\n",
      "[115]\ttrain-auc:0.93123+0.00022\ttest-auc:0.91277+0.00064\n",
      "[116]\ttrain-auc:0.93129+0.00020\ttest-auc:0.91277+0.00064\n",
      "[117]\ttrain-auc:0.93138+0.00020\ttest-auc:0.91278+0.00063\n",
      "[118]\ttrain-auc:0.93146+0.00020\ttest-auc:0.91277+0.00063\n",
      "[119]\ttrain-auc:0.93155+0.00022\ttest-auc:0.91278+0.00064\n",
      "[120]\ttrain-auc:0.93162+0.00022\ttest-auc:0.91279+0.00064\n",
      "[121]\ttrain-auc:0.93170+0.00020\ttest-auc:0.91279+0.00064\n",
      "[122]\ttrain-auc:0.93184+0.00017\ttest-auc:0.91280+0.00064\n",
      "[123]\ttrain-auc:0.93195+0.00016\ttest-auc:0.91280+0.00064\n",
      "[124]\ttrain-auc:0.93203+0.00015\ttest-auc:0.91281+0.00065\n",
      "[125]\ttrain-auc:0.93210+0.00012\ttest-auc:0.91281+0.00064\n",
      "[126]\ttrain-auc:0.93219+0.00010\ttest-auc:0.91282+0.00064\n",
      "[127]\ttrain-auc:0.93226+0.00011\ttest-auc:0.91282+0.00065\n",
      "[128]\ttrain-auc:0.93233+0.00009\ttest-auc:0.91282+0.00065\n",
      "[129]\ttrain-auc:0.93242+0.00012\ttest-auc:0.91283+0.00064\n",
      "[130]\ttrain-auc:0.93253+0.00014\ttest-auc:0.91284+0.00064\n",
      "[131]\ttrain-auc:0.93261+0.00013\ttest-auc:0.91285+0.00063\n",
      "[132]\ttrain-auc:0.93273+0.00013\ttest-auc:0.91285+0.00062\n",
      "[133]\ttrain-auc:0.93280+0.00013\ttest-auc:0.91285+0.00062\n",
      "[134]\ttrain-auc:0.93288+0.00016\ttest-auc:0.91285+0.00062\n",
      "[135]\ttrain-auc:0.93295+0.00016\ttest-auc:0.91284+0.00062\n",
      "[136]\ttrain-auc:0.93304+0.00018\ttest-auc:0.91285+0.00062\n",
      "[137]\ttrain-auc:0.93313+0.00019\ttest-auc:0.91286+0.00062\n",
      "[138]\ttrain-auc:0.93322+0.00020\ttest-auc:0.91286+0.00061\n",
      "[139]\ttrain-auc:0.93335+0.00021\ttest-auc:0.91287+0.00061\n",
      "[140]\ttrain-auc:0.93343+0.00023\ttest-auc:0.91287+0.00060\n",
      "[141]\ttrain-auc:0.93350+0.00026\ttest-auc:0.91288+0.00060\n",
      "[142]\ttrain-auc:0.93359+0.00023\ttest-auc:0.91288+0.00060\n",
      "[143]\ttrain-auc:0.93364+0.00022\ttest-auc:0.91288+0.00059\n",
      "[144]\ttrain-auc:0.93370+0.00020\ttest-auc:0.91288+0.00059\n",
      "[145]\ttrain-auc:0.93378+0.00021\ttest-auc:0.91289+0.00058\n",
      "[146]\ttrain-auc:0.93386+0.00020\ttest-auc:0.91289+0.00058\n",
      "[147]\ttrain-auc:0.93393+0.00018\ttest-auc:0.91288+0.00058\n",
      "[148]\ttrain-auc:0.93400+0.00019\ttest-auc:0.91288+0.00058\n",
      "[149]\ttrain-auc:0.93408+0.00018\ttest-auc:0.91288+0.00059\n",
      "[150]\ttrain-auc:0.93417+0.00019\ttest-auc:0.91289+0.00060\n",
      "[151]\ttrain-auc:0.93425+0.00019\ttest-auc:0.91290+0.00060\n",
      "[152]\ttrain-auc:0.93432+0.00017\ttest-auc:0.91290+0.00059\n",
      "[153]\ttrain-auc:0.93440+0.00018\ttest-auc:0.91291+0.00059\n",
      "[154]\ttrain-auc:0.93453+0.00020\ttest-auc:0.91291+0.00059\n",
      "[155]\ttrain-auc:0.93464+0.00021\ttest-auc:0.91291+0.00061\n",
      "[156]\ttrain-auc:0.93473+0.00020\ttest-auc:0.91292+0.00061\n",
      "[157]\ttrain-auc:0.93480+0.00018\ttest-auc:0.91291+0.00060\n",
      "[158]\ttrain-auc:0.93488+0.00017\ttest-auc:0.91292+0.00060\n",
      "[159]\ttrain-auc:0.93496+0.00020\ttest-auc:0.91293+0.00060\n",
      "[160]\ttrain-auc:0.93505+0.00019\ttest-auc:0.91293+0.00060\n",
      "[161]\ttrain-auc:0.93513+0.00019\ttest-auc:0.91292+0.00060\n",
      "[162]\ttrain-auc:0.93523+0.00019\ttest-auc:0.91292+0.00059\n",
      "[163]\ttrain-auc:0.93529+0.00021\ttest-auc:0.91293+0.00058\n",
      "[164]\ttrain-auc:0.93536+0.00021\ttest-auc:0.91293+0.00058\n",
      "[165]\ttrain-auc:0.93547+0.00024\ttest-auc:0.91293+0.00058\n",
      "[166]\ttrain-auc:0.93554+0.00022\ttest-auc:0.91293+0.00057\n",
      "[167]\ttrain-auc:0.93561+0.00022\ttest-auc:0.91294+0.00057\n",
      "[168]\ttrain-auc:0.93569+0.00024\ttest-auc:0.91295+0.00057\n",
      "[169]\ttrain-auc:0.93578+0.00024\ttest-auc:0.91295+0.00057\n",
      "[170]\ttrain-auc:0.93585+0.00022\ttest-auc:0.91294+0.00057\n",
      "[171]\ttrain-auc:0.93597+0.00021\ttest-auc:0.91295+0.00057\n",
      "[172]\ttrain-auc:0.93606+0.00021\ttest-auc:0.91295+0.00057\n",
      "[173]\ttrain-auc:0.93614+0.00019\ttest-auc:0.91295+0.00056\n",
      "[174]\ttrain-auc:0.93622+0.00017\ttest-auc:0.91295+0.00056\n",
      "[175]\ttrain-auc:0.93627+0.00019\ttest-auc:0.91295+0.00056\n",
      "[176]\ttrain-auc:0.93634+0.00019\ttest-auc:0.91295+0.00056\n",
      "[177]\ttrain-auc:0.93642+0.00015\ttest-auc:0.91295+0.00055\n",
      "[178]\ttrain-auc:0.93648+0.00015\ttest-auc:0.91295+0.00055\n",
      "[179]\ttrain-auc:0.93661+0.00014\ttest-auc:0.91295+0.00055\n",
      "[180]\ttrain-auc:0.93672+0.00014\ttest-auc:0.91295+0.00056\n",
      "[181]\ttrain-auc:0.93679+0.00015\ttest-auc:0.91295+0.00056\n",
      "[182]\ttrain-auc:0.93687+0.00018\ttest-auc:0.91294+0.00056\n",
      "[183]\ttrain-auc:0.93695+0.00020\ttest-auc:0.91295+0.00056\n",
      "[184]\ttrain-auc:0.93700+0.00020\ttest-auc:0.91295+0.00056\n",
      "[185]\ttrain-auc:0.93706+0.00018\ttest-auc:0.91295+0.00057\n",
      "[186]\ttrain-auc:0.93714+0.00020\ttest-auc:0.91295+0.00056\n",
      "[187]\ttrain-auc:0.93720+0.00021\ttest-auc:0.91295+0.00056\n",
      "[188]\ttrain-auc:0.93729+0.00020\ttest-auc:0.91295+0.00056\n",
      "[189]\ttrain-auc:0.93736+0.00019\ttest-auc:0.91295+0.00056\n",
      "[190]\ttrain-auc:0.93743+0.00019\ttest-auc:0.91295+0.00055\n",
      "[191]\ttrain-auc:0.93750+0.00019\ttest-auc:0.91295+0.00056\n",
      "[192]\ttrain-auc:0.93761+0.00017\ttest-auc:0.91294+0.00056\n",
      "[193]\ttrain-auc:0.93770+0.00017\ttest-auc:0.91293+0.00056\n",
      "[194]\ttrain-auc:0.93776+0.00017\ttest-auc:0.91293+0.00056\n",
      "[195]\ttrain-auc:0.93785+0.00018\ttest-auc:0.91292+0.00056\n",
      "[196]\ttrain-auc:0.93791+0.00018\ttest-auc:0.91292+0.00056\n",
      "[197]\ttrain-auc:0.93797+0.00018\ttest-auc:0.91292+0.00057\n",
      "[198]\ttrain-auc:0.93805+0.00018\ttest-auc:0.91292+0.00057\n",
      "[199]\ttrain-auc:0.93813+0.00019\ttest-auc:0.91293+0.00057\n",
      "[200]\ttrain-auc:0.93819+0.00020\ttest-auc:0.91292+0.00057\n",
      "[201]\ttrain-auc:0.93827+0.00018\ttest-auc:0.91292+0.00057\n",
      "[202]\ttrain-auc:0.93835+0.00018\ttest-auc:0.91292+0.00057\n",
      "[203]\ttrain-auc:0.93844+0.00018\ttest-auc:0.91293+0.00057\n",
      "[204]\ttrain-auc:0.93851+0.00018\ttest-auc:0.91292+0.00057\n",
      "[205]\ttrain-auc:0.93859+0.00019\ttest-auc:0.91293+0.00057\n",
      "[206]\ttrain-auc:0.93867+0.00019\ttest-auc:0.91293+0.00057\n",
      "[207]\ttrain-auc:0.93874+0.00019\ttest-auc:0.91294+0.00056\n",
      "[208]\ttrain-auc:0.93882+0.00017\ttest-auc:0.91294+0.00057\n",
      "[209]\ttrain-auc:0.93889+0.00016\ttest-auc:0.91293+0.00057\n",
      "[210]\ttrain-auc:0.93897+0.00015\ttest-auc:0.91293+0.00056\n",
      "[211]\ttrain-auc:0.93905+0.00015\ttest-auc:0.91292+0.00057\n",
      "[212]\ttrain-auc:0.93916+0.00015\ttest-auc:0.91292+0.00058\n"
     ]
    }
   ],
   "source": [
    "CVparams2 = {'objective' : 'binary:logistic',\n",
    "             'max_depth' : 9,\n",
    "             'min_child_weight' : 5, \n",
    "             'gamma' : 0, \n",
    "             'subsample' : 0.6,\n",
    "             'colsample_bytree' : 0.8, \n",
    "             'eta' : 0.1,\n",
    "             'eval_metric' : 'auc',\n",
    "             'nthread' : 16}\n",
    "res = cross_validation(seed, dtrain, CVparams2)"
   ]
  },
  {
   "cell_type": "code",
   "execution_count": 11,
   "metadata": {},
   "outputs": [
    {
     "name": "stdout",
     "output_type": "stream",
     "text": [
      "CV results\n",
      "      train-auc-mean  train-auc-std  test-auc-mean  test-auc-std\n",
      "0          0.877226       0.000555       0.871992      0.000886\n",
      "1          0.892448       0.004906       0.887324      0.005327\n",
      "2          0.898021       0.000803       0.892767      0.001262\n",
      "3          0.900918       0.000980       0.895465      0.000679\n",
      "4          0.902292       0.001051       0.896723      0.001365\n",
      "..              ...            ...            ...           ...\n",
      "184        0.936999       0.000196       0.912945      0.000561\n",
      "185        0.937061       0.000182       0.912953      0.000567\n",
      "186        0.937137       0.000200       0.912949      0.000562\n",
      "187        0.937205       0.000207       0.912953      0.000561\n",
      "188        0.937292       0.000199       0.912954      0.000557\n",
      "\n",
      "[189 rows x 4 columns]\n"
     ]
    }
   ],
   "source": [
    "print('CV results'\"\\n\", res)"
   ]
  },
  {
   "cell_type": "markdown",
   "metadata": {},
   "source": [
    "## Training"
   ]
  },
  {
   "cell_type": "markdown",
   "metadata": {},
   "source": [
    "Once we have founded the best values of the parameters we will use them to train the BDT deciding the value of *num_round*, which is the number of boosting iterations."
   ]
  },
  {
   "cell_type": "code",
   "execution_count": 12,
   "metadata": {},
   "outputs": [],
   "source": [
    "num_round = 900\n",
    "params = CVparams1\n",
    "bst = xgb.train(params, dtrain, num_round)"
   ]
  },
  {
   "cell_type": "markdown",
   "metadata": {},
   "source": [
    "## Predictions and plotting"
   ]
  },
  {
   "cell_type": "markdown",
   "metadata": {},
   "source": [
    "To measure the classification performance we can compute Receiver operating characteristic (ROC) and the roc_auc_score using scikit-learn library. (The roc_auc_score corresponds to area under the ROC curve.)"
   ]
  },
  {
   "cell_type": "code",
   "execution_count": 13,
   "metadata": {},
   "outputs": [
    {
     "name": "stdout",
     "output_type": "stream",
     "text": [
      "0.9116770778782832\n"
     ]
    },
    {
     "data": {
      "image/png": "[encoded data removed]",
      "text/plain": [
       "<Figure size 432x288 with 1 Axes>"
      ]
     },
     "metadata": {
      "needs_background": "light"
     },
     "output_type": "display_data"
    }
   ],
   "source": [
    "from sklearn.metrics import roc_curve, roc_auc_score\n",
    "import matplotlib.pyplot as plt\n",
    "preds = bst.predict(dtest)\n",
    "y_pred = preds.astype(float)\n",
    "y_test = y_test.astype(int)\n",
    "fpr, tpr, _ = roc_curve(y_test, y_pred)\n",
    "print('roc_auc_score',roc_auc_score(y_test, y_pred))\n",
    "\n",
    "plt.figure(1)\n",
    "plt.plot([0, 1], [0, 1], 'k--')\n",
    "plt.plot(fpr, tpr, label='BDT')\n",
    "\n",
    "plt.xlabel('False positive rate')\n",
    "plt.ylabel('True positive rate')\n",
    "plt.title('ROC curve')\n",
    "plt.legend(loc='best')\n",
    "plt.show()"
   ]
  },
  {
   "cell_type": "markdown",
   "metadata": {},
   "source": [
    "To see features ordered by their importance we can use a built-in function of XGBoost."
   ]
  },
  {
   "cell_type": "code",
   "execution_count": 11,
   "metadata": {},
   "outputs": [
    {
     "data": {
      "image/png": "[encoded data removed]",
      "text/plain": [
       "<Figure size 1440x720 with 1 Axes>"
      ]
     },
     "metadata": {
      "needs_background": "light"
     },
     "output_type": "display_data"
    }
   ],
   "source": [
    "import matplotlib.pyplot as plt\n",
    "xgb.plot_importance(bst)\n",
    "fig = plt.gcf()\n",
    "fig.set_size_inches(20, 10)\n",
    "plt.show()"
   ]
  }
 ],
 "metadata": {
  "kernelspec": {
   "display_name": "Python 3",
   "language": "python",
   "name": "python3"
  },
  "language_info": {
   "codemirror_mode": {
    "name": "ipython",
    "version": 3
   },
   "file_extension": ".py",
   "mimetype": "text/x-python",
   "name": "python",
   "nbconvert_exporter": "python",
   "pygments_lexer": "ipython3",
   "version": "3.7.6"
  }
 },
 "nbformat": 4,
 "nbformat_minor": 4
}
