{
 "cells": [
  {
   "cell_type": "markdown",
   "metadata": {},
   "source": [
    "# Tutorial 2 - Introduction to Neural Networks"
   ]
  },
  {
   "cell_type": "markdown",
   "metadata": {},
   "source": [
    "This tutorial is an example of a possible design of a (Deep) Neural Network.\n",
    "For the training and the test of the NN will be used the dataset prepared in Tutorial 1."
   ]
  },
  {
   "cell_type": "markdown",
   "metadata": {},
   "source": [
    "## Table of contents\n",
    "- Data loading and reading\n",
    "- Design a simple DNN\n",
    "- Train the DNN\n",
    "- Evaluation of the model on the testing data"
   ]
  },
  {
   "cell_type": "markdown",
   "metadata": {},
   "source": [
    "## Data loading and reading"
   ]
  },
  {
   "cell_type": "code",
   "execution_count": 1,
   "metadata": {},
   "outputs": [],
   "source": [
    "import pandas as pd"
   ]
  },
  {
   "cell_type": "markdown",
   "metadata": {},
   "source": [
    "We will use the datasets prepared and saved in Tutorial 1. \n",
    "\n",
    "If you don't have the four csv files saved in the current repository they can be downloaded by using the function get_data that saves a copy of the four datasets.\n",
    "If you have already the four csv files saved in the current repository skip this step and go to the next one."
   ]
  },
  {
   "cell_type": "code",
   "execution_count": 2,
   "metadata": {},
   "outputs": [
    {
     "name": "stdout",
     "output_type": "stream",
     "text": [
      "Downloading Dataset\n",
      "Writing dataset on disk\n",
      "Downloading Dataset\n",
      "Writing dataset on disk\n",
      "Downloading Dataset\n",
      "Writing dataset on disk\n",
      "Downloading Dataset\n",
      "Writing dataset on disk\n"
     ]
    }
   ],
   "source": [
    "import requests\n",
    "import os\n",
    "import program\n",
    "from program import get_data\n",
    "data_file = get_data(\"https://www.dropbox.com/s/0jraecfbh1ahd8n/X_train.csv?dl=1\")\n",
    "os.rename('data.csv', 'X_train.csv')\n",
    "data_file = get_data(\"https://www.dropbox.com/s/da4hatrc6inpjt6/X_test.csv?dl=1\")\n",
    "os.rename('data.csv', 'X_test.csv')\n",
    "data_file = get_data(\"https://www.dropbox.com/s/xhm68m14kijkl5t/y_train.csv?dl=1\")\n",
    "os.rename('data.csv', 'y_train.csv')\n",
    "data_file = get_data(\"https://www.dropbox.com/s/xj9dvu6zecq7k4k/y_test.csv?dl=1\")\n",
    "os.rename('data.csv', 'y_test.csv')"
   ]
  },
  {
   "cell_type": "markdown",
   "metadata": {},
   "source": [
    "Now we can simply use pandas DataFrame to handle the data."
   ]
  },
  {
   "cell_type": "code",
   "execution_count": 3,
   "metadata": {},
   "outputs": [
    {
     "data": {
      "text/plain": [
       "(572766, 1)"
      ]
     },
     "execution_count": 3,
     "metadata": {},
     "output_type": "execute_result"
    }
   ],
   "source": [
    "X_train = pd.read_csv('X_train.csv')\n",
    "X_test = pd.read_csv('X_test.csv')\n",
    "y_train = pd.read_csv('y_train.csv')\n",
    "y_test = pd.read_csv('y_test.csv')\n",
    "y_train.shape"
   ]
  },
  {
   "cell_type": "markdown",
   "metadata": {},
   "source": [
    "## Design a simple DNN"
   ]
  },
  {
   "cell_type": "markdown",
   "metadata": {},
   "source": [
    "We build a densely-connected network using the sequential Keras model, which is a linear stack of layers.\n",
    "For more informations about **`Keras`** you can find the documentation on [Keras website](https://keras.io/about/) and on [Guide to the Sequential Model](https://keras.rstudio.com/articles/sequential_model.html).\n",
    "\n",
    "The model needs to know what input shape it should expect. So for the 1st layer of the net the input_dim is a necessary argument to be specified. The following layers can do automatic shape inference.\n",
    "\n",
    "We will use a DNN with the same structure used in program.py:\n",
    "- Seven hidden layers with respectively 64, 128, 128, 64, 32, 16 and 8 neurons;\n",
    "- ReLu function has been used as activation function for all the layers, except for the output layer for which the Sigmoid function has been used;\n",
    "- the *binary crossentropy* has been used as the loss function;\n",
    "- the *adam* algorithm has been used as the optimizer;\n",
    "- the *accuracy* has been used as the metric."
   ]
  },
  {
   "cell_type": "code",
   "execution_count": 4,
   "metadata": {},
   "outputs": [
    {
     "name": "stdout",
     "output_type": "stream",
     "text": [
      "Model: \"sequential\"\n",
      "_________________________________________________________________\n",
      "Layer (type)                 Output Shape              Param #   \n",
      "=================================================================\n",
      "dense (Dense)                (None, 64)                1984      \n",
      "_________________________________________________________________\n",
      "dense_1 (Dense)              (None, 128)               8320      \n",
      "_________________________________________________________________\n",
      "dense_2 (Dense)              (None, 128)               16512     \n",
      "_________________________________________________________________\n",
      "dense_3 (Dense)              (None, 64)                8256      \n",
      "_________________________________________________________________\n",
      "dense_4 (Dense)              (None, 32)                2080      \n",
      "_________________________________________________________________\n",
      "dense_5 (Dense)              (None, 16)                528       \n",
      "_________________________________________________________________\n",
      "dense_6 (Dense)              (None, 8)                 136       \n",
      "_________________________________________________________________\n",
      "dense_7 (Dense)              (None, 1)                 9         \n",
      "=================================================================\n",
      "Total params: 37,825\n",
      "Trainable params: 37,825\n",
      "Non-trainable params: 0\n",
      "_________________________________________________________________\n"
     ]
    }
   ],
   "source": [
    "from tensorflow.keras import Sequential\n",
    "from tensorflow.keras.layers import Dense\n",
    "from tensorflow.keras.regularizers import l2\n",
    "model = Sequential()\n",
    "model.add(Dense(units=64, activation='relu', input_dim=30, kernel_regularizer=l2(0.001)))\n",
    "model.add(Dense(128, activation='relu', kernel_regularizer=l2(0.001)))\n",
    "model.add(Dense(128, activation='relu', kernel_regularizer=l2(0.001)))\n",
    "model.add(Dense(64, activation='relu', kernel_regularizer=l2(0.001)))\n",
    "model.add(Dense(32, activation='relu', kernel_regularizer=l2(0.001)))\n",
    "model.add(Dense(16, activation='relu', kernel_regularizer=l2(0.001)))\n",
    "model.add(Dense(8, activation='relu', kernel_regularizer=l2(0.001)))\n",
    "model.add(Dense(units=1, activation='sigmoid'))\n",
    "model.compile(loss= 'binary_crossentropy', optimizer='adam', metrics=['accuracy'])\n",
    "model.summary()"
   ]
  },
  {
   "cell_type": "markdown",
   "metadata": {},
   "source": [
    "## Train the DNN"
   ]
  },
  {
   "cell_type": "markdown",
   "metadata": {},
   "source": [
    "In order to train the model, we pass the training data to the fit function. However, part of the training data will be used as validation data, which is used during the training to evaluate the training process. "
   ]
  },
  {
   "cell_type": "code",
   "execution_count": 5,
   "metadata": {},
   "outputs": [
    {
     "name": "stdout",
     "output_type": "stream",
     "text": [
      "Epoch 1/38\n",
      "573/573 [==============================] - 5s 10ms/step - loss: 0.5332 - accuracy: 0.8143 - val_loss: 0.4367 - val_accuracy: 0.8344\n",
      "Epoch 2/38\n",
      "573/573 [==============================] - 5s 9ms/step - loss: 0.4231 - accuracy: 0.8354 - val_loss: 0.4075 - val_accuracy: 0.8397\n",
      "Epoch 3/38\n",
      "573/573 [==============================] - 5s 9ms/step - loss: 0.4062 - accuracy: 0.8373 - val_loss: 0.4004 - val_accuracy: 0.8390\n",
      "Epoch 4/38\n",
      "573/573 [==============================] - 5s 9ms/step - loss: 0.3971 - accuracy: 0.8387 - val_loss: 0.3925 - val_accuracy: 0.8391\n",
      "Epoch 5/38\n",
      "573/573 [==============================] - 5s 9ms/step - loss: 0.3919 - accuracy: 0.8392 - val_loss: 0.3884 - val_accuracy: 0.8402\n",
      "Epoch 6/38\n",
      "573/573 [==============================] - 5s 9ms/step - loss: 0.3887 - accuracy: 0.8392 - val_loss: 0.3877 - val_accuracy: 0.8401\n",
      "Epoch 7/38\n",
      "573/573 [==============================] - 5s 9ms/step - loss: 0.3866 - accuracy: 0.8399 - val_loss: 0.3855 - val_accuracy: 0.8400\n",
      "Epoch 8/38\n",
      "573/573 [==============================] - 5s 9ms/step - loss: 0.3840 - accuracy: 0.8403 - val_loss: 0.3827 - val_accuracy: 0.8405\n",
      "Epoch 9/38\n",
      "573/573 [==============================] - 5s 9ms/step - loss: 0.3822 - accuracy: 0.8403 - val_loss: 0.3795 - val_accuracy: 0.8419\n",
      "Epoch 10/38\n",
      "573/573 [==============================] - 5s 9ms/step - loss: 0.3815 - accuracy: 0.8409 - val_loss: 0.3806 - val_accuracy: 0.8407\n",
      "Epoch 11/38\n",
      "573/573 [==============================] - 5s 9ms/step - loss: 0.3801 - accuracy: 0.8407 - val_loss: 0.3782 - val_accuracy: 0.8428\n",
      "Epoch 12/38\n",
      "573/573 [==============================] - 5s 9ms/step - loss: 0.3789 - accuracy: 0.8412 - val_loss: 0.3774 - val_accuracy: 0.8428\n",
      "Epoch 13/38\n",
      "573/573 [==============================] - 5s 9ms/step - loss: 0.3787 - accuracy: 0.8409 - val_loss: 0.3811 - val_accuracy: 0.8409\n",
      "Epoch 14/38\n",
      "573/573 [==============================] - 5s 9ms/step - loss: 0.3782 - accuracy: 0.8415 - val_loss: 0.3774 - val_accuracy: 0.8424\n",
      "Epoch 15/38\n",
      "573/573 [==============================] - 5s 9ms/step - loss: 0.3774 - accuracy: 0.8414 - val_loss: 0.3743 - val_accuracy: 0.8434\n",
      "Epoch 16/38\n",
      "573/573 [==============================] - 5s 9ms/step - loss: 0.3769 - accuracy: 0.8418 - val_loss: 0.3762 - val_accuracy: 0.8430\n",
      "Epoch 17/38\n",
      "573/573 [==============================] - 5s 9ms/step - loss: 0.3765 - accuracy: 0.8413 - val_loss: 0.3753 - val_accuracy: 0.8433\n",
      "Epoch 18/38\n",
      "573/573 [==============================] - 5s 9ms/step - loss: 0.3763 - accuracy: 0.8416 - val_loss: 0.3757 - val_accuracy: 0.8429\n",
      "Epoch 19/38\n",
      "573/573 [==============================] - 5s 9ms/step - loss: 0.3758 - accuracy: 0.8416 - val_loss: 0.3732 - val_accuracy: 0.8443\n",
      "Epoch 20/38\n",
      "573/573 [==============================] - 5s 9ms/step - loss: 0.3752 - accuracy: 0.8423 - val_loss: 0.3731 - val_accuracy: 0.8435\n",
      "Epoch 21/38\n",
      "573/573 [==============================] - 5s 9ms/step - loss: 0.3751 - accuracy: 0.8423 - val_loss: 0.3759 - val_accuracy: 0.8411\n",
      "Epoch 22/38\n",
      "573/573 [==============================] - 5s 9ms/step - loss: 0.3748 - accuracy: 0.8423 - val_loss: 0.3725 - val_accuracy: 0.8433\n",
      "Epoch 23/38\n",
      "573/573 [==============================] - 5s 9ms/step - loss: 0.3747 - accuracy: 0.8424 - val_loss: 0.3752 - val_accuracy: 0.8418\n",
      "Epoch 24/38\n",
      "573/573 [==============================] - 5s 9ms/step - loss: 0.3742 - accuracy: 0.8425 - val_loss: 0.3750 - val_accuracy: 0.8418\n",
      "Epoch 25/38\n",
      "573/573 [==============================] - 5s 9ms/step - loss: 0.3743 - accuracy: 0.8422 - val_loss: 0.3763 - val_accuracy: 0.8420\n",
      "Epoch 26/38\n",
      "573/573 [==============================] - 5s 9ms/step - loss: 0.3741 - accuracy: 0.8423 - val_loss: 0.3742 - val_accuracy: 0.8419\n",
      "Epoch 27/38\n",
      "573/573 [==============================] - 5s 9ms/step - loss: 0.3735 - accuracy: 0.8423 - val_loss: 0.3722 - val_accuracy: 0.8442\n",
      "Epoch 28/38\n",
      "573/573 [==============================] - 5s 9ms/step - loss: 0.3738 - accuracy: 0.8419 - val_loss: 0.3734 - val_accuracy: 0.8427\n",
      "Epoch 29/38\n",
      "573/573 [==============================] - 5s 9ms/step - loss: 0.3740 - accuracy: 0.8423 - val_loss: 0.3729 - val_accuracy: 0.8434\n",
      "Epoch 30/38\n",
      "573/573 [==============================] - 5s 9ms/step - loss: 0.3731 - accuracy: 0.8426 - val_loss: 0.3723 - val_accuracy: 0.8434\n",
      "Epoch 31/38\n",
      "573/573 [==============================] - 5s 9ms/step - loss: 0.3732 - accuracy: 0.8428 - val_loss: 0.3714 - val_accuracy: 0.8439\n",
      "Epoch 32/38\n",
      "573/573 [==============================] - 5s 9ms/step - loss: 0.3731 - accuracy: 0.8426 - val_loss: 0.3723 - val_accuracy: 0.8432\n",
      "Epoch 33/38\n",
      "573/573 [==============================] - 5s 9ms/step - loss: 0.3726 - accuracy: 0.8426 - val_loss: 0.3721 - val_accuracy: 0.8431\n",
      "Epoch 34/38\n",
      "573/573 [==============================] - 5s 9ms/step - loss: 0.3730 - accuracy: 0.8421 - val_loss: 0.3716 - val_accuracy: 0.8440\n",
      "Epoch 35/38\n",
      "573/573 [==============================] - 5s 9ms/step - loss: 0.3727 - accuracy: 0.8424 - val_loss: 0.3711 - val_accuracy: 0.8438\n",
      "Epoch 36/38\n",
      "573/573 [==============================] - 5s 9ms/step - loss: 0.3724 - accuracy: 0.8424 - val_loss: 0.3707 - val_accuracy: 0.8446\n",
      "Epoch 37/38\n",
      "573/573 [==============================] - 5s 9ms/step - loss: 0.3725 - accuracy: 0.8424 - val_loss: 0.3713 - val_accuracy: 0.8446\n",
      "Epoch 38/38\n",
      "573/573 [==============================] - 5s 9ms/step - loss: 0.3721 - accuracy: 0.8425 - val_loss: 0.3712 - val_accuracy: 0.8433\n"
     ]
    }
   ],
   "source": [
    "import numpy as np\n",
    "X_train = np.asarray(X_train, dtype = 'float32')\n",
    "y_train = np.asarray(y_train, dtype = 'float32')\n",
    "history = model.fit(X_train, y_train, validation_split=0.3, epochs=38, batch_size=700)        "
   ]
  },
  {
   "cell_type": "markdown",
   "metadata": {},
   "source": [
    "## Evaluation of the model on the testing data"
   ]
  },
  {
   "cell_type": "markdown",
   "metadata": {},
   "source": [
    "Let's evaluate the loss and accuracy on our test data"
   ]
  },
  {
   "cell_type": "code",
   "execution_count": null,
   "metadata": {},
   "outputs": [
    {
     "name": "stdout",
     "output_type": "stream",
     "text": [
      "6786/7671 [=========================>....] - ETA: 1s - loss: 0.3737 - accuracy: 0.8416"
     ]
    }
   ],
   "source": [
    "X_test = np.asarray(X_test, dtype = 'float32')\n",
    "y_test = np.asarray(y_test, dtype = 'float32')\n",
    "loss_and_metrics = model.evaluate(X_test, y_test)\n",
    "print (loss_and_metrics)"
   ]
  },
  {
   "cell_type": "markdown",
   "metadata": {},
   "source": [
    "We can plot the loss evolution and the accuracy over the training epochs for the training and validation dataset"
   ]
  },
  {
   "cell_type": "code",
   "execution_count": 12,
   "metadata": {},
   "outputs": [
    {
     "data": {
      "image/png": "[encoded data removed]",
      "text/plain": [
       "<Figure size 432x288 with 1 Axes>"
      ]
     },
     "metadata": {
      "needs_background": "light"
     },
     "output_type": "display_data"
    }
   ],
   "source": [
    "import matplotlib.pyplot as plt\n",
    "plt.figure()\n",
    "plt.plot(history.history['loss'], Label = 'Loss')\n",
    "plt.plot(history.history['val_loss'])\n",
    "plt.title('NN_loss')\n",
    "plt.ylabel('loss')\n",
    "plt.xlabel('epochs')\n",
    "plt.legend(['training', 'validation'], loc='upper right')\n",
    "plt.show()"
   ]
  },
  {
   "cell_type": "code",
   "execution_count": 13,
   "metadata": {},
   "outputs": [
    {
     "data": {
      "image/png": "[encoded data removed]",
      "text/plain": [
       "<Figure size 432x288 with 1 Axes>"
      ]
     },
     "metadata": {
      "needs_background": "light"
     },
     "output_type": "display_data"
    }
   ],
   "source": [
    "plt.figure()\n",
    "plt.plot(history.history['accuracy'])\n",
    "plt.plot(history.history['val_accuracy'])\n",
    "plt.title('NN_accuracy')\n",
    "plt.ylabel('accuracy')\n",
    "plt.xlabel('epochs')\n",
    "plt.legend(['training', 'validation'], loc='lower right')        \n",
    "plt.show()"
   ]
  },
  {
   "cell_type": "markdown",
   "metadata": {},
   "source": [
    "Then we can plot the DNN Output which corresponds to the value of the prediction obtained on the events of the test sets."
   ]
  },
  {
   "cell_type": "code",
   "execution_count": 14,
   "metadata": {},
   "outputs": [
    {
     "data": {
      "image/png": "[encoded data removed]",
      "text/plain": [
       "<Figure size 432x288 with 1 Axes>"
      ]
     },
     "metadata": {
      "needs_background": "light"
     },
     "output_type": "display_data"
    }
   ],
   "source": [
    "    plt.figure()\n",
    "    plt.title('DNN Output')\n",
    "    plt.xlabel('DNN Output')\n",
    "    plt.ylabel('Counts')\n",
    "    plt.yscale('log')\n",
    "    \n",
    "    DNN_Output = model.predict(X_test)\n",
    "    background = DNN_Output[y_test==0]\n",
    "    signal = DNN_Output[y_test==1]\n",
    "    plt.hist([background, signal], color=['red', 'blue'], bins= 100, histtype = 'barstacked')\n",
    "    plt.show()"
   ]
  },
  {
   "cell_type": "markdown",
   "metadata": {},
   "source": [
    "The DNN output assumes values that can be between 0 and 1.\n",
    "An event which is predicted to be a pure background event corresponds to 0, while an expected pure signal event corresponds to 1.\n",
    "There are two different colours: the red corresponds to the counts related to\n",
    "the events labelled as background and the blue corresponds to those counts related to the\n",
    "events labelled as signal."
   ]
  }
 ],
 "metadata": {
  "kernelspec": {
   "display_name": "Python 3",
   "language": "python",
   "name": "python3"
  },
  "language_info": {
   "codemirror_mode": {
    "name": "ipython",
    "version": 3
   },
   "file_extension": ".py",
   "mimetype": "text/x-python",
   "name": "python",
   "nbconvert_exporter": "python",
   "pygments_lexer": "ipython3",
   "version": "3.7.6"
  }
 },
 "nbformat": 4,
 "nbformat_minor": 4
}
